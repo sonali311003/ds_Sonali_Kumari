{
  "nbformat": 4,
  "nbformat_minor": 0,
  "metadata": {
    "colab": {
      "provenance": []
    },
    "kernelspec": {
      "name": "python3",
      "display_name": "Python 3"
    },
    "language_info": {
      "name": "python"
    }
  },
  "cells": [
    {
      "cell_type": "code",
      "execution_count": 13,
      "metadata": {
        "colab": {
          "base_uri": "https://localhost:8080/",
          "height": 345
        },
        "id": "FGKeF21Ok2bk",
        "outputId": "7f405b4d-5e30-454d-ea4f-c4978d9112c5"
      },
      "outputs": [
        {
          "output_type": "stream",
          "name": "stdout",
          "text": [
            "Index(['Account', 'Coin', 'Execution Price', 'Size Tokens', 'Size USD', 'Side',\n",
            "       'Timestamp IST', 'Start Position', 'Direction', 'Closed PnL',\n",
            "       'Transaction Hash', 'Order ID', 'Crossed', 'Fee', 'Trade ID',\n",
            "       'Timestamp'],\n",
            "      dtype='object')\n",
            "Index(['timestamp', 'value', 'classification', 'date'], dtype='object')\n"
          ]
        },
        {
          "output_type": "stream",
          "name": "stderr",
          "text": [
            "/tmp/ipython-input-22473516.py:3: DtypeWarning: Columns (12) have mixed types. Specify dtype option on import or set low_memory=False.\n",
            "  trades = pd.read_csv('/content/historical_data.csv')  # remove parse_dates for now\n"
          ]
        },
        {
          "output_type": "execute_result",
          "data": {
            "text/plain": [
              "    timestamp  value classification        date\n",
              "0  1517463000     30           Fear  2018-02-01\n",
              "1  1517549400     15   Extreme Fear  2018-02-02\n",
              "2  1517635800     40           Fear  2018-02-03\n",
              "3  1517722200     24   Extreme Fear  2018-02-04\n",
              "4  1517808600     11   Extreme Fear  2018-02-05"
            ],
            "text/html": [
              "\n",
              "  <div id=\"df-20fc8a86-594d-44c8-80ff-f2f92dba975e\" class=\"colab-df-container\">\n",
              "    <div>\n",
              "<style scoped>\n",
              "    .dataframe tbody tr th:only-of-type {\n",
              "        vertical-align: middle;\n",
              "    }\n",
              "\n",
              "    .dataframe tbody tr th {\n",
              "        vertical-align: top;\n",
              "    }\n",
              "\n",
              "    .dataframe thead th {\n",
              "        text-align: right;\n",
              "    }\n",
              "</style>\n",
              "<table border=\"1\" class=\"dataframe\">\n",
              "  <thead>\n",
              "    <tr style=\"text-align: right;\">\n",
              "      <th></th>\n",
              "      <th>timestamp</th>\n",
              "      <th>value</th>\n",
              "      <th>classification</th>\n",
              "      <th>date</th>\n",
              "    </tr>\n",
              "  </thead>\n",
              "  <tbody>\n",
              "    <tr>\n",
              "      <th>0</th>\n",
              "      <td>1517463000</td>\n",
              "      <td>30</td>\n",
              "      <td>Fear</td>\n",
              "      <td>2018-02-01</td>\n",
              "    </tr>\n",
              "    <tr>\n",
              "      <th>1</th>\n",
              "      <td>1517549400</td>\n",
              "      <td>15</td>\n",
              "      <td>Extreme Fear</td>\n",
              "      <td>2018-02-02</td>\n",
              "    </tr>\n",
              "    <tr>\n",
              "      <th>2</th>\n",
              "      <td>1517635800</td>\n",
              "      <td>40</td>\n",
              "      <td>Fear</td>\n",
              "      <td>2018-02-03</td>\n",
              "    </tr>\n",
              "    <tr>\n",
              "      <th>3</th>\n",
              "      <td>1517722200</td>\n",
              "      <td>24</td>\n",
              "      <td>Extreme Fear</td>\n",
              "      <td>2018-02-04</td>\n",
              "    </tr>\n",
              "    <tr>\n",
              "      <th>4</th>\n",
              "      <td>1517808600</td>\n",
              "      <td>11</td>\n",
              "      <td>Extreme Fear</td>\n",
              "      <td>2018-02-05</td>\n",
              "    </tr>\n",
              "  </tbody>\n",
              "</table>\n",
              "</div>\n",
              "    <div class=\"colab-df-buttons\">\n",
              "\n",
              "  <div class=\"colab-df-container\">\n",
              "    <button class=\"colab-df-convert\" onclick=\"convertToInteractive('df-20fc8a86-594d-44c8-80ff-f2f92dba975e')\"\n",
              "            title=\"Convert this dataframe to an interactive table.\"\n",
              "            style=\"display:none;\">\n",
              "\n",
              "  <svg xmlns=\"http://www.w3.org/2000/svg\" height=\"24px\" viewBox=\"0 -960 960 960\">\n",
              "    <path d=\"M120-120v-720h720v720H120Zm60-500h600v-160H180v160Zm220 220h160v-160H400v160Zm0 220h160v-160H400v160ZM180-400h160v-160H180v160Zm440 0h160v-160H620v160ZM180-180h160v-160H180v160Zm440 0h160v-160H620v160Z\"/>\n",
              "  </svg>\n",
              "    </button>\n",
              "\n",
              "  <style>\n",
              "    .colab-df-container {\n",
              "      display:flex;\n",
              "      gap: 12px;\n",
              "    }\n",
              "\n",
              "    .colab-df-convert {\n",
              "      background-color: #E8F0FE;\n",
              "      border: none;\n",
              "      border-radius: 50%;\n",
              "      cursor: pointer;\n",
              "      display: none;\n",
              "      fill: #1967D2;\n",
              "      height: 32px;\n",
              "      padding: 0 0 0 0;\n",
              "      width: 32px;\n",
              "    }\n",
              "\n",
              "    .colab-df-convert:hover {\n",
              "      background-color: #E2EBFA;\n",
              "      box-shadow: 0px 1px 2px rgba(60, 64, 67, 0.3), 0px 1px 3px 1px rgba(60, 64, 67, 0.15);\n",
              "      fill: #174EA6;\n",
              "    }\n",
              "\n",
              "    .colab-df-buttons div {\n",
              "      margin-bottom: 4px;\n",
              "    }\n",
              "\n",
              "    [theme=dark] .colab-df-convert {\n",
              "      background-color: #3B4455;\n",
              "      fill: #D2E3FC;\n",
              "    }\n",
              "\n",
              "    [theme=dark] .colab-df-convert:hover {\n",
              "      background-color: #434B5C;\n",
              "      box-shadow: 0px 1px 3px 1px rgba(0, 0, 0, 0.15);\n",
              "      filter: drop-shadow(0px 1px 2px rgba(0, 0, 0, 0.3));\n",
              "      fill: #FFFFFF;\n",
              "    }\n",
              "  </style>\n",
              "\n",
              "    <script>\n",
              "      const buttonEl =\n",
              "        document.querySelector('#df-20fc8a86-594d-44c8-80ff-f2f92dba975e button.colab-df-convert');\n",
              "      buttonEl.style.display =\n",
              "        google.colab.kernel.accessAllowed ? 'block' : 'none';\n",
              "\n",
              "      async function convertToInteractive(key) {\n",
              "        const element = document.querySelector('#df-20fc8a86-594d-44c8-80ff-f2f92dba975e');\n",
              "        const dataTable =\n",
              "          await google.colab.kernel.invokeFunction('convertToInteractive',\n",
              "                                                    [key], {});\n",
              "        if (!dataTable) return;\n",
              "\n",
              "        const docLinkHtml = 'Like what you see? Visit the ' +\n",
              "          '<a target=\"_blank\" href=https://colab.research.google.com/notebooks/data_table.ipynb>data table notebook</a>'\n",
              "          + ' to learn more about interactive tables.';\n",
              "        element.innerHTML = '';\n",
              "        dataTable['output_type'] = 'display_data';\n",
              "        await google.colab.output.renderOutput(dataTable, element);\n",
              "        const docLink = document.createElement('div');\n",
              "        docLink.innerHTML = docLinkHtml;\n",
              "        element.appendChild(docLink);\n",
              "      }\n",
              "    </script>\n",
              "  </div>\n",
              "\n",
              "\n",
              "    <div id=\"df-1462c645-0b0b-4e86-a56b-64e0a3353ea9\">\n",
              "      <button class=\"colab-df-quickchart\" onclick=\"quickchart('df-1462c645-0b0b-4e86-a56b-64e0a3353ea9')\"\n",
              "                title=\"Suggest charts\"\n",
              "                style=\"display:none;\">\n",
              "\n",
              "<svg xmlns=\"http://www.w3.org/2000/svg\" height=\"24px\"viewBox=\"0 0 24 24\"\n",
              "     width=\"24px\">\n",
              "    <g>\n",
              "        <path d=\"M19 3H5c-1.1 0-2 .9-2 2v14c0 1.1.9 2 2 2h14c1.1 0 2-.9 2-2V5c0-1.1-.9-2-2-2zM9 17H7v-7h2v7zm4 0h-2V7h2v10zm4 0h-2v-4h2v4z\"/>\n",
              "    </g>\n",
              "</svg>\n",
              "      </button>\n",
              "\n",
              "<style>\n",
              "  .colab-df-quickchart {\n",
              "      --bg-color: #E8F0FE;\n",
              "      --fill-color: #1967D2;\n",
              "      --hover-bg-color: #E2EBFA;\n",
              "      --hover-fill-color: #174EA6;\n",
              "      --disabled-fill-color: #AAA;\n",
              "      --disabled-bg-color: #DDD;\n",
              "  }\n",
              "\n",
              "  [theme=dark] .colab-df-quickchart {\n",
              "      --bg-color: #3B4455;\n",
              "      --fill-color: #D2E3FC;\n",
              "      --hover-bg-color: #434B5C;\n",
              "      --hover-fill-color: #FFFFFF;\n",
              "      --disabled-bg-color: #3B4455;\n",
              "      --disabled-fill-color: #666;\n",
              "  }\n",
              "\n",
              "  .colab-df-quickchart {\n",
              "    background-color: var(--bg-color);\n",
              "    border: none;\n",
              "    border-radius: 50%;\n",
              "    cursor: pointer;\n",
              "    display: none;\n",
              "    fill: var(--fill-color);\n",
              "    height: 32px;\n",
              "    padding: 0;\n",
              "    width: 32px;\n",
              "  }\n",
              "\n",
              "  .colab-df-quickchart:hover {\n",
              "    background-color: var(--hover-bg-color);\n",
              "    box-shadow: 0 1px 2px rgba(60, 64, 67, 0.3), 0 1px 3px 1px rgba(60, 64, 67, 0.15);\n",
              "    fill: var(--button-hover-fill-color);\n",
              "  }\n",
              "\n",
              "  .colab-df-quickchart-complete:disabled,\n",
              "  .colab-df-quickchart-complete:disabled:hover {\n",
              "    background-color: var(--disabled-bg-color);\n",
              "    fill: var(--disabled-fill-color);\n",
              "    box-shadow: none;\n",
              "  }\n",
              "\n",
              "  .colab-df-spinner {\n",
              "    border: 2px solid var(--fill-color);\n",
              "    border-color: transparent;\n",
              "    border-bottom-color: var(--fill-color);\n",
              "    animation:\n",
              "      spin 1s steps(1) infinite;\n",
              "  }\n",
              "\n",
              "  @keyframes spin {\n",
              "    0% {\n",
              "      border-color: transparent;\n",
              "      border-bottom-color: var(--fill-color);\n",
              "      border-left-color: var(--fill-color);\n",
              "    }\n",
              "    20% {\n",
              "      border-color: transparent;\n",
              "      border-left-color: var(--fill-color);\n",
              "      border-top-color: var(--fill-color);\n",
              "    }\n",
              "    30% {\n",
              "      border-color: transparent;\n",
              "      border-left-color: var(--fill-color);\n",
              "      border-top-color: var(--fill-color);\n",
              "      border-right-color: var(--fill-color);\n",
              "    }\n",
              "    40% {\n",
              "      border-color: transparent;\n",
              "      border-right-color: var(--fill-color);\n",
              "      border-top-color: var(--fill-color);\n",
              "    }\n",
              "    60% {\n",
              "      border-color: transparent;\n",
              "      border-right-color: var(--fill-color);\n",
              "    }\n",
              "    80% {\n",
              "      border-color: transparent;\n",
              "      border-right-color: var(--fill-color);\n",
              "      border-bottom-color: var(--fill-color);\n",
              "    }\n",
              "    90% {\n",
              "      border-color: transparent;\n",
              "      border-bottom-color: var(--fill-color);\n",
              "    }\n",
              "  }\n",
              "</style>\n",
              "\n",
              "      <script>\n",
              "        async function quickchart(key) {\n",
              "          const quickchartButtonEl =\n",
              "            document.querySelector('#' + key + ' button');\n",
              "          quickchartButtonEl.disabled = true;  // To prevent multiple clicks.\n",
              "          quickchartButtonEl.classList.add('colab-df-spinner');\n",
              "          try {\n",
              "            const charts = await google.colab.kernel.invokeFunction(\n",
              "                'suggestCharts', [key], {});\n",
              "          } catch (error) {\n",
              "            console.error('Error during call to suggestCharts:', error);\n",
              "          }\n",
              "          quickchartButtonEl.classList.remove('colab-df-spinner');\n",
              "          quickchartButtonEl.classList.add('colab-df-quickchart-complete');\n",
              "        }\n",
              "        (() => {\n",
              "          let quickchartButtonEl =\n",
              "            document.querySelector('#df-1462c645-0b0b-4e86-a56b-64e0a3353ea9 button');\n",
              "          quickchartButtonEl.style.display =\n",
              "            google.colab.kernel.accessAllowed ? 'block' : 'none';\n",
              "        })();\n",
              "      </script>\n",
              "    </div>\n",
              "\n",
              "    </div>\n",
              "  </div>\n"
            ],
            "application/vnd.google.colaboratory.intrinsic+json": {
              "type": "dataframe",
              "variable_name": "sent",
              "summary": "{\n  \"name\": \"sent\",\n  \"rows\": 2644,\n  \"fields\": [\n    {\n      \"column\": \"timestamp\",\n      \"properties\": {\n        \"dtype\": \"number\",\n        \"std\": 65979674,\n        \"min\": 1517463000,\n        \"max\": 1746163800,\n        \"num_unique_values\": 2644,\n        \"samples\": [\n          1594531800,\n          1613626200,\n          1630819800\n        ],\n        \"semantic_type\": \"\",\n        \"description\": \"\"\n      }\n    },\n    {\n      \"column\": \"value\",\n      \"properties\": {\n        \"dtype\": \"number\",\n        \"std\": 21,\n        \"min\": 5,\n        \"max\": 95,\n        \"num_unique_values\": 90,\n        \"samples\": [\n          61,\n          47,\n          65\n        ],\n        \"semantic_type\": \"\",\n        \"description\": \"\"\n      }\n    },\n    {\n      \"column\": \"classification\",\n      \"properties\": {\n        \"dtype\": \"category\",\n        \"num_unique_values\": 5,\n        \"samples\": [\n          \"Extreme Fear\",\n          \"Extreme Greed\",\n          \"Neutral\"\n        ],\n        \"semantic_type\": \"\",\n        \"description\": \"\"\n      }\n    },\n    {\n      \"column\": \"date\",\n      \"properties\": {\n        \"dtype\": \"object\",\n        \"num_unique_values\": 2644,\n        \"samples\": [\n          \"2020-07-12\",\n          \"2021-02-18\",\n          \"2021-09-05\"\n        ],\n        \"semantic_type\": \"\",\n        \"description\": \"\"\n      }\n    }\n  ]\n}"
            }
          },
          "metadata": {},
          "execution_count": 13
        }
      ],
      "source": [
        "import pandas as pd\n",
        "\n",
        "trades = pd.read_csv('/content/historical_data.csv')  # remove parse_dates for now\n",
        "print(trades.columns)\n",
        "trades.head()\n",
        "sent = pd.read_csv('/content/fear_greed_index.csv')\n",
        "print(sent.columns)\n",
        "sent.head()"
      ]
    },
    {
      "cell_type": "code",
      "source": [
        "\n",
        "trades = pd.read_csv('/content/historical_data.csv', parse_dates=['Timestamp'])\n",
        "trades.rename(columns={'Timestamp': 'time'}, inplace=True)\n",
        "\n",
        "sent = pd.read_csv('/content/fear_greed_index.csv', parse_dates=['date'])\n",
        "sent.rename(columns={'date>': 'date'}, inplace=True)\n",
        "\n",
        "trades.info()\n",
        "sent.info()\n"
      ],
      "metadata": {
        "colab": {
          "base_uri": "https://localhost:8080/"
        },
        "id": "N26FfGgzlBaU",
        "outputId": "cd99e678-6b4e-4a86-dd56-114e0a08c5c4"
      },
      "execution_count": 14,
      "outputs": [
        {
          "output_type": "stream",
          "name": "stdout",
          "text": [
            "<class 'pandas.core.frame.DataFrame'>\n",
            "RangeIndex: 153900 entries, 0 to 153899\n",
            "Data columns (total 16 columns):\n",
            " #   Column            Non-Null Count   Dtype  \n",
            "---  ------            --------------   -----  \n",
            " 0   Account           153900 non-null  object \n",
            " 1   Coin              153900 non-null  object \n",
            " 2   Execution Price   153900 non-null  float64\n",
            " 3   Size Tokens       153900 non-null  float64\n",
            " 4   Size USD          153900 non-null  float64\n",
            " 5   Side              153900 non-null  object \n",
            " 6   Timestamp IST     153900 non-null  object \n",
            " 7   Start Position    153900 non-null  float64\n",
            " 8   Direction         153900 non-null  object \n",
            " 9   Closed PnL        153900 non-null  float64\n",
            " 10  Transaction Hash  153899 non-null  object \n",
            " 11  Order ID          153899 non-null  float64\n",
            " 12  Crossed           153899 non-null  object \n",
            " 13  Fee               153899 non-null  float64\n",
            " 14  Trade ID          153899 non-null  float64\n",
            " 15  time              153899 non-null  object \n",
            "dtypes: float64(8), object(8)\n",
            "memory usage: 18.8+ MB\n",
            "<class 'pandas.core.frame.DataFrame'>\n",
            "RangeIndex: 2644 entries, 0 to 2643\n",
            "Data columns (total 4 columns):\n",
            " #   Column          Non-Null Count  Dtype         \n",
            "---  ------          --------------  -----         \n",
            " 0   timestamp       2644 non-null   int64         \n",
            " 1   value           2644 non-null   int64         \n",
            " 2   classification  2644 non-null   object        \n",
            " 3   date            2644 non-null   datetime64[ns]\n",
            "dtypes: datetime64[ns](1), int64(2), object(1)\n",
            "memory usage: 82.8+ KB\n"
          ]
        },
        {
          "output_type": "stream",
          "name": "stderr",
          "text": [
            "/tmp/ipython-input-303705708.py:1: DtypeWarning: Columns (12) have mixed types. Specify dtype option on import or set low_memory=False.\n",
            "  trades = pd.read_csv('/content/historical_data.csv', parse_dates=['Timestamp'])\n",
            "/tmp/ipython-input-303705708.py:1: UserWarning: Could not infer format, so each element will be parsed individually, falling back to `dateutil`. To ensure parsing is consistent and as-expected, please specify a format.\n",
            "  trades = pd.read_csv('/content/historical_data.csv', parse_dates=['Timestamp'])\n"
          ]
        }
      ]
    },
    {
      "cell_type": "code",
      "source": [
        "import matplotlib.pyplot as plt\n",
        "\n",
        "# Calculate returns\n",
        "plt.savefig('/content/returns_by_sentiment.png', dpi=150, bbox_inches='tight')\n"
      ],
      "metadata": {
        "colab": {
          "base_uri": "https://localhost:8080/",
          "height": 34
        },
        "id": "c2waS0Kf6d2e",
        "outputId": "9b5684e1-e9c5-4ffe-cf47-4af5cb8680d0"
      },
      "execution_count": 15,
      "outputs": [
        {
          "output_type": "display_data",
          "data": {
            "text/plain": [
              "<Figure size 640x480 with 0 Axes>"
            ]
          },
          "metadata": {}
        }
      ]
    },
    {
      "cell_type": "code",
      "source": [
        "def normalize_cols(df):\n",
        "    df.columns = [c.strip().lower().replace(' ', '_') for c in df.columns]\n",
        "    return df\n",
        "\n",
        "trades = normalize_cols(trades)\n",
        "sent = normalize_cols(sent)\n",
        "\n",
        "# Drop duplicates\n",
        "trades = trades.drop_duplicates()\n",
        "sent = sent.drop_duplicates()\n",
        "\n",
        "print(trades.info())\n",
        "print(sent.info())\n"
      ],
      "metadata": {
        "colab": {
          "base_uri": "https://localhost:8080/"
        },
        "id": "U7f45Y1jnJ6F",
        "outputId": "1dc40a08-6239-4406-bed0-0e34a369b729"
      },
      "execution_count": 16,
      "outputs": [
        {
          "output_type": "stream",
          "name": "stdout",
          "text": [
            "<class 'pandas.core.frame.DataFrame'>\n",
            "RangeIndex: 153900 entries, 0 to 153899\n",
            "Data columns (total 16 columns):\n",
            " #   Column            Non-Null Count   Dtype  \n",
            "---  ------            --------------   -----  \n",
            " 0   account           153900 non-null  object \n",
            " 1   coin              153900 non-null  object \n",
            " 2   execution_price   153900 non-null  float64\n",
            " 3   size_tokens       153900 non-null  float64\n",
            " 4   size_usd          153900 non-null  float64\n",
            " 5   side              153900 non-null  object \n",
            " 6   timestamp_ist     153900 non-null  object \n",
            " 7   start_position    153900 non-null  float64\n",
            " 8   direction         153900 non-null  object \n",
            " 9   closed_pnl        153900 non-null  float64\n",
            " 10  transaction_hash  153899 non-null  object \n",
            " 11  order_id          153899 non-null  float64\n",
            " 12  crossed           153899 non-null  object \n",
            " 13  fee               153899 non-null  float64\n",
            " 14  trade_id          153899 non-null  float64\n",
            " 15  time              153899 non-null  object \n",
            "dtypes: float64(8), object(8)\n",
            "memory usage: 18.8+ MB\n",
            "None\n",
            "<class 'pandas.core.frame.DataFrame'>\n",
            "RangeIndex: 2644 entries, 0 to 2643\n",
            "Data columns (total 4 columns):\n",
            " #   Column          Non-Null Count  Dtype         \n",
            "---  ------          --------------  -----         \n",
            " 0   timestamp       2644 non-null   int64         \n",
            " 1   value           2644 non-null   int64         \n",
            " 2   classification  2644 non-null   object        \n",
            " 3   date            2644 non-null   datetime64[ns]\n",
            "dtypes: datetime64[ns](1), int64(2), object(1)\n",
            "memory usage: 82.8+ KB\n",
            "None\n"
          ]
        }
      ]
    },
    {
      "cell_type": "code",
      "source": [
        "print(trades['time'].head())\n",
        "print(trades['time'].dtype)"
      ],
      "metadata": {
        "colab": {
          "base_uri": "https://localhost:8080/"
        },
        "id": "-L2a3uP4qObP",
        "outputId": "01b28d85-78e5-4783-97a1-286386f80365"
      },
      "execution_count": 20,
      "outputs": [
        {
          "output_type": "stream",
          "name": "stdout",
          "text": [
            "0   1970-01-20 10:40:00\n",
            "1   1970-01-20 10:40:00\n",
            "2   1970-01-20 10:40:00\n",
            "3   1970-01-20 16:13:20\n",
            "4   1970-01-20 16:13:20\n",
            "Name: time, dtype: datetime64[ns]\n",
            "datetime64[ns]\n"
          ]
        }
      ]
    },
    {
      "cell_type": "code",
      "source": [
        "# Map sentiment to numeric\n",
        "sent['sentiment_num'] = sent['classification'].map({\n",
        "    'Extreme Fear': -1,\n",
        "    'Fear': 0,\n",
        "    'Greed': 1,\n",
        "    'Extreme Greed': 2\n",
        "})\n",
        "\n",
        "# Parse datetime carefully\n",
        "try:\n",
        "    trades['time'] = pd.to_datetime(trades['time'], unit='us')\n",
        "except (ValueError, OverflowError):\n",
        "    # Fallback: parse as string (if not epoch)\n",
        "    trades['time'] = pd.to_datetime(trades['time'], dayfirst=True, errors='coerce')\n",
        "\n",
        "sent['date'] = pd.to_datetime(sent['date'], dayfirst=True, errors='coerce')\n",
        "\n",
        "# Sort before merge\n",
        "trades = trades.sort_values('time')\n",
        "sent = sent.sort_values('date')\n",
        "\n",
        "# Drop invalid times\n",
        "trades = trades.dropna(subset=['time'])\n",
        "\n",
        "# Merge sentiment data using nearest backward date\n",
        "trades = pd.merge_asof(\n",
        "    trades,\n",
        "    sent[['date', 'sentiment_num']],\n",
        "    left_on='time',\n",
        "    right_on='date',\n",
        "    direction='backward'\n",
        ")\n",
        "\n",
        "# ✅ Sanity check after merge\n",
        "print(trades[['time', 'sentiment_num']].head())\n",
        "print(\"\\nSentiment counts after merge:\")\n",
        "print(trades['sentiment_num'].value_counts(dropna=False))\n"
      ],
      "metadata": {
        "colab": {
          "base_uri": "https://localhost:8080/"
        },
        "id": "y5UpoLHcBI0K",
        "outputId": "f055f56b-66e4-4083-dcd0-44b8f481da90"
      },
      "execution_count": 42,
      "outputs": [
        {
          "output_type": "stream",
          "name": "stdout",
          "text": [
            "                 time  sentiment_num\n",
            "0 2023-05-01 01:06:00            1.0\n",
            "1 2023-05-01 01:06:00            1.0\n",
            "2 2023-05-01 01:06:00            1.0\n",
            "3 2023-12-05 03:11:00            2.0\n",
            "4 2023-12-05 03:11:00            2.0\n",
            "\n",
            "Sentiment counts after merge:\n",
            "sentiment_num\n",
            " 0.0    43608\n",
            " 1.0    39053\n",
            " 2.0    30920\n",
            " NaN    26856\n",
            "-1.0    13462\n",
            "Name: count, dtype: int64\n"
          ]
        }
      ]
    },
    {
      "cell_type": "code",
      "source": [
        "import numpy as np\n",
        "\n",
        "# Calculate notional\n",
        "trades['return_pct'] = trades['closed_pnl'] / trades['size_usd'].replace(0, np.nan)\n",
        "trades['profitable'] = (trades['closed_pnl'] > 0).astype(int)\n",
        "\n",
        "\n",
        "trades['hour'] = pd.to_datetime(trades['timestamp_ist'], format='%d-%m-%Y %H:%M', dayfirst=True).dt.hour\n",
        "trades['weekday'] = pd.to_datetime(trades['timestamp_ist'], format='%d-%m-%Y %H:%M', dayfirst=True).dt.weekday\n",
        "\n",
        "if 'leverage' in trades.columns:\n",
        "    trades['leverage_bucket'] = pd.qcut(trades['leverage'], q=3, labels=['Low','Medium','High'])"
      ],
      "metadata": {
        "id": "TAabmK-QqVCQ"
      },
      "execution_count": 21,
      "outputs": []
    },
    {
      "cell_type": "code",
      "source": [
        "from scipy.stats import ttest_ind\n",
        "\n",
        "greed = trades[trades['sentiment_num'] == 1]['return_pct'].dropna()\n",
        "fear  = trades[trades['sentiment_num'] == 0]['return_pct'].dropna()\n",
        "\n",
        "t_stat, p_val = ttest_ind(greed, fear, equal_var=False)\n",
        "print(f\"T-test: t={t_stat:.3f}, p={p_val:.4f}\")\n"
      ],
      "metadata": {
        "colab": {
          "base_uri": "https://localhost:8080/"
        },
        "id": "zz3MzxVer4ax",
        "outputId": "4f3908a0-a474-497d-883c-812a1be43914"
      },
      "execution_count": 23,
      "outputs": [
        {
          "output_type": "stream",
          "name": "stdout",
          "text": [
            "T-test: t=nan, p=nan\n"
          ]
        },
        {
          "output_type": "stream",
          "name": "stderr",
          "text": [
            "/usr/local/lib/python3.12/dist-packages/scipy/_lib/deprecation.py:234: SmallSampleWarning: One or more sample arguments is too small; all returned values will be NaN. See documentation for sample size requirements.\n",
            "  return f(*args, **kwargs)\n"
          ]
        }
      ]
    },
    {
      "cell_type": "code",
      "source": [
        "from sklearn.model_selection import TimeSeriesSplit\n",
        "from sklearn.ensemble import RandomForestClassifier\n",
        "from sklearn.metrics import roc_auc_score\n",
        "\n",
        "feature_cols = ['sentiment_num','hour','weekday']\n",
        "X = trades[feature_cols].fillna(0)\n",
        "y = trades['profitable']\n",
        "\n",
        "tscv = TimeSeriesSplit(n_splits=5)\n",
        "scores = []\n",
        "for train_idx, test_idx in tscv.split(X):\n",
        "    model = RandomForestClassifier(n_estimators=100, random_state=42)\n",
        "    model.fit(X.iloc[train_idx], y.iloc[train_idx])\n",
        "    preds = model.predict_proba(X.iloc[test_idx])[:, 1]\n",
        "    auc = roc_auc_score(y.iloc[test_idx], preds)\n",
        "    scores.append(auc)\n",
        "\n",
        "print(\"ROC-AUC per fold:\", scores)\n",
        "print(\"Mean ROC-AUC:\", np.mean(scores))\n"
      ],
      "metadata": {
        "colab": {
          "base_uri": "https://localhost:8080/"
        },
        "id": "LF8Jy2sUsGnI",
        "outputId": "06d7c016-3200-40cd-81be-f0989ddce637"
      },
      "execution_count": 24,
      "outputs": [
        {
          "output_type": "stream",
          "name": "stdout",
          "text": [
            "ROC-AUC per fold: [np.float64(0.47569228753414466), np.float64(0.4959605715247455), np.float64(0.46621928049846445), np.float64(0.40708431943868945), np.float64(0.5267692968929482)]\n",
            "Mean ROC-AUC: 0.47434515117779846\n"
          ]
        }
      ]
    },
    {
      "cell_type": "code",
      "source": [
        "import matplotlib.pyplot as plt\n",
        "import pandas as pd\n",
        "\n",
        "# ✅ Fix: parse with dayfirst=True\n",
        "trades['timestamp_ist'] = pd.to_datetime(trades['timestamp_ist'], dayfirst=True, errors='coerce')\n",
        "sent['date'] = pd.to_datetime(sent['date'], dayfirst=True, errors='coerce')\n",
        "\n",
        "# 1️⃣ Compute daily PnL\n",
        "daily_pnl = trades.groupby(trades['timestamp_ist'].dt.date)['closed_pnl'].sum()\n",
        "\n",
        "# 2️⃣ Prepare daily sentiment\n",
        "daily_sent = sent.set_index('date')['sentiment_num']\n",
        "\n",
        "# 3️⃣ Join data\n",
        "daily_df = pd.concat([daily_pnl, daily_sent], axis=1)\n",
        "\n",
        "# 4️⃣ Plot\n",
        "plt.figure(figsize=(12,5))\n",
        "plt.plot(daily_df.index, daily_df['closed_pnl'], label='Daily Closed PnL', color='blue')\n",
        "\n",
        "# Scale sentiment to match PnL visually\n",
        "if not daily_df['closed_pnl'].empty:\n",
        "    scaled_sentiment = daily_df['sentiment_num'] * daily_df['closed_pnl'].abs().max()\n",
        "    plt.plot(daily_df.index, scaled_sentiment, label='Sentiment (scaled)', color='red', alpha=0.7)\n",
        "\n",
        "plt.title(\"Daily Closed PnL vs Market Sentiment\")\n",
        "plt.xlabel(\"Date\")\n",
        "plt.ylabel(\"Closed PnL\")\n",
        "plt.legend()\n",
        "plt.grid(True)\n",
        "\n",
        "# 5️⃣ Save figure\n",
        "plt.savefig('/content/daily_pnl_vs_sentiment.png', dpi=150, bbox_inches='tight')\n",
        "plt.show()"
      ],
      "metadata": {
        "colab": {
          "base_uri": "https://localhost:8080/",
          "height": 487
        },
        "id": "Opep_4mN8tKR",
        "outputId": "2739ea09-b8ab-4fd5-a00c-3dd6abaf280c"
      },
      "execution_count": 26,
      "outputs": [
        {
          "output_type": "display_data",
          "data": {
            "text/plain": [
              "<Figure size 1200x500 with 1 Axes>"
            ],
            "image/png": "[encoded data removed]"
          },
          "metadata": {}
        }
      ]
    },
    {
      "cell_type": "code",
      "source": [
        "trades.to_csv('/content/trades_with_sentiment.csv', index=False)\n",
        "print(\"Processed trades saved as trades_with_sentiment.csv\")\n"
      ],
      "metadata": {
        "id": "CrFjZQFUsUot"
      },
      "execution_count": null,
      "outputs": []
    },
    {
      "cell_type": "code",
      "source": [
        "import os\n",
        "import numpy as np\n",
        "import matplotlib.pyplot as plt\n",
        "import pandas as pd\n",
        "import seaborn as sns\n",
        "\n",
        "# ensure outputs folder exists\n",
        "os.makedirs('/content/outputs', exist_ok=True)\n",
        "\n",
        "# 1) create return_pct if missing\n",
        "if 'return_pct' not in trades.columns:\n",
        "    trades['return_pct'] = trades['closed_pnl'] / trades['size_usd'].replace(0, np.nan)\n",
        "\n",
        "# 2) filter out rows where sentiment_num is NaN\n",
        "trades_filtered = trades.dropna(subset=['sentiment_num'])\n",
        "\n",
        "# 3) build data arrays per sentiment category (sorted)\n",
        "cats = sorted(trades_filtered['sentiment_num'].unique())\n",
        "if len(cats) == 0:\n",
        "    raise ValueError(\"No sentiment values found in trades['sentiment_num'] after filtering.\")\n",
        "data = [trades_filtered.loc[trades_filtered['sentiment_num'] == c, 'return_pct'].dropna() for c in cats]\n",
        "\n",
        "# 4) choose colors (extend if more than 2 categories)\n",
        "base_colors = ['#66c2a5', '#fc8d62', '#8da0cb', '#e78ac3']\n",
        "colors = [base_colors[i % len(base_colors)] for i in range(len(cats))]\n",
        "\n",
        "# 5) plot with matplotlib boxplot and color the boxes\n",
        "fig, ax = plt.subplots(figsize=(8,5))\n",
        "bplot = ax.boxplot(data,\n",
        "                   labels=[str(c) for c in cats],\n",
        "                   patch_artist=True,\n",
        "                   widths=0.6,\n",
        "                   showfliers=True)\n",
        "\n",
        "# color boxes & style medians\n",
        "for patch, color in zip(bplot['boxes'], colors):\n",
        "    patch.set_facecolor(color)\n",
        "for median in bplot['medians']:\n",
        "    median.set(color='black', linewidth=1.2)\n",
        "\n",
        "ax.set_title(\"Returns by Market Sentiment\")\n",
        "ax.set_xlabel(\"Sentiment (-1=Extreme Fear, 0=Fear, 0.5=Neutral, 1=Greed, 2=Extreme Greed)\")\n",
        "ax.set_ylabel(\"Return %\")\n",
        "ax.grid(axis='y', alpha=0.3)\n",
        "\n",
        "# 6) save to outputs\n",
        "out_path = '/content/outputs/returns_by_sentiment.png'\n",
        "plt.savefig(out_path, dpi=150, bbox_inches='tight')\n",
        "plt.show()\n",
        "\n",
        "print(\"Saved:\", out_path)"
      ],
      "metadata": {
        "colab": {
          "base_uri": "https://localhost:8080/",
          "height": 559
        },
        "id": "T68v7FND_cIA",
        "outputId": "0b05854c-7ac9-4cd0-cd9a-c67b508d4fdc"
      },
      "execution_count": 43,
      "outputs": [
        {
          "output_type": "stream",
          "name": "stderr",
          "text": [
            "/tmp/ipython-input-4083126960.py:29: MatplotlibDeprecationWarning: The 'labels' parameter of boxplot() has been renamed 'tick_labels' since Matplotlib 3.9; support for the old name will be dropped in 3.11.\n",
            "  bplot = ax.boxplot(data,\n"
          ]
        },
        {
          "output_type": "display_data",
          "data": {
            "text/plain": [
              "<Figure size 800x500 with 1 Axes>"
            ],
            "image/png": "[encoded data removed]"
          },
          "metadata": {}
        },
        {
          "output_type": "stream",
          "name": "stdout",
          "text": [
            "Saved: /content/outputs/returns_by_sentiment.png\n"
          ]
        }
      ]
    }
  ]
}